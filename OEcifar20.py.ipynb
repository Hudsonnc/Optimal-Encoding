{
 "cells": [
  {
   "cell_type": "code",
   "execution_count": 1,
   "metadata": {},
   "outputs": [
    {
     "name": "stderr",
     "output_type": "stream",
     "text": [
      "/usr/local/anaconda3/lib/python3.6/importlib/_bootstrap.py:219: RuntimeWarning: compiletime version 3.5 of module 'tensorflow.python.framework.fast_tensor_util' does not match runtime version 3.6\n",
      "  return f(*args, **kwds)\n",
      "100%|██████████| 500/500 [00:58<00:00,  8.52it/s]\n"
     ]
    }
   ],
   "source": [
    "import re\n",
    "import numpy as np\n",
    "import math\n",
    "import tensorflow as tf\n",
    "\n",
    "from matplotlib import pyplot as plt\n",
    "%matplotlib inline\n",
    "import sklearn.datasets\n",
    "from sklearn import preprocessing, model_selection\n",
    "from dataset import one_hot_encoded\n",
    "\n",
    "#Data\n",
    "def unpickle(file):\n",
    "    import pickle\n",
    "    with open(file, 'rb') as fo:\n",
    "        dict = pickle.load(fo, encoding='bytes')\n",
    "    return dict\n",
    "\n",
    "cifar = unpickle('/home/AD/lbreston/Data/cifar-100-python/train')\n",
    "\n",
    "X=np.array(cifar[b'data'])/255\n",
    "cls =  np.array(cifar[b'coarse_labels'])\n",
    "\n",
    "y=one_hot_encoded(class_numbers=cls, num_classes=20)\n",
    "\n",
    "np.shape(y)\n",
    "\n",
    "cifar = unpickle('/home/AD/lbreston/Data/cifar-100-python/test')\n",
    "\n",
    "X_val=np.array(cifar[b'data'])/255\n",
    "cls_val =  np.array(cifar[b'coarse_labels'])\n",
    "\n",
    "y_val=one_hot_encoded(class_numbers=cls_val, num_classes=20)\n",
    "\n",
    "np.shape(y_val)\n",
    "\n",
    "X_train, X_test, y_train, y_test = model_selection.train_test_split(X, y, test_size=0.999, random_state=42, stratify=y)\n",
    "\n",
    "#Model\n",
    "from networks import MLP\n",
    "from OptimalEncodingExp import OptimalEncoding\n",
    "\n",
    "n_in = X_train.shape[-1]\n",
    "k = 100\n",
    "n_out = y_train.shape[-1]\n",
    "\n",
    "sigma=1\n",
    "\n",
    "widths = [1000,1000,1000,1000]\n",
    "decode_widths=[20]\n",
    "\n",
    "encoder = MLP(n_in, k, widths)\n",
    "decoder = MLP(k, n_out, decode_widths)\n",
    "\n",
    "oe = OptimalEncoding(encoder, decoder, k, fname='../OEresults/cifar20/',live=False)\n",
    "\n",
    "#Training\n",
    "oe.train(X_train, X_val, y_val,y=y_train,\n",
    "         min_entropy=True, sigma = sigma, task = 'classification', \n",
    "         heteroskedastic = True, n_samples = 10,\n",
    "         epochs=500, batch_size=20, lr=1e-4)\n"
   ]
  },
  {
   "cell_type": "code",
   "execution_count": null,
   "metadata": {},
   "outputs": [],
   "source": []
  },
  {
   "cell_type": "code",
   "execution_count": null,
   "metadata": {},
   "outputs": [],
   "source": []
  }
 ],
 "metadata": {
  "kernelspec": {
   "display_name": "Python 3",
   "language": "python",
   "name": "python3"
  },
  "language_info": {
   "codemirror_mode": {
    "name": "ipython",
    "version": 3
   },
   "file_extension": ".py",
   "mimetype": "text/x-python",
   "name": "python",
   "nbconvert_exporter": "python",
   "pygments_lexer": "ipython3",
   "version": "3.6.6"
  }
 },
 "nbformat": 4,
 "nbformat_minor": 2
}
